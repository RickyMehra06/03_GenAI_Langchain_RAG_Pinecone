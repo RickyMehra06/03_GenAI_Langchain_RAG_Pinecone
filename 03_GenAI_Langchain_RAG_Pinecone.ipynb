{
 "cells": [
  {
   "cell_type": "markdown",
   "id": "5457564e",
   "metadata": {},
   "source": [
    "## Generative AI with Langchain -  Gemini Pro, RAG and Pinecone"
   ]
  },
  {
   "cell_type": "code",
   "execution_count": 1,
   "id": "b913137f",
   "metadata": {},
   "outputs": [
    {
     "data": {
      "text/plain": [
       "False"
      ]
     },
     "execution_count": 1,
     "metadata": {},
     "output_type": "execute_result"
    }
   ],
   "source": [
    "import warnings\n",
    "warnings.filterwarnings('ignore')\n",
    "\n",
    "import google.generativeai as genai\n",
    "from langchain_google_genai import GoogleGenerativeAIEmbeddings\n",
    "\n",
    "from langchain.document_loaders import DataFrameLoader\n",
    "\n",
    "import pinecone\n",
    "from langchain.vectorstores import Pinecone\n",
    "from langchain.text_splitter import CharacterTextSplitter\n",
    "\n",
    "import getpass\n",
    "\n",
    "import pandas as pd\n",
    "import os, sys\n",
    "\n",
    "from dotenv import load_dotenv\n",
    "load_dotenv()"
   ]
  },
  {
   "cell_type": "code",
   "execution_count": 2,
   "id": "5f19ce79",
   "metadata": {},
   "outputs": [
    {
     "name": "stdout",
     "output_type": "stream",
     "text": [
      "Enter your GenAI API key: ········\n"
     ]
    }
   ],
   "source": [
    "os.environ[\"GOOGLE_API_KEY\"] = getpass.getpass(prompt=\"Enter your GenAI API key: \")"
   ]
  },
  {
   "cell_type": "code",
   "execution_count": 3,
   "id": "6a7d9e43",
   "metadata": {},
   "outputs": [
    {
     "data": {
      "text/html": [
       "<div>\n",
       "<style scoped>\n",
       "    .dataframe tbody tr th:only-of-type {\n",
       "        vertical-align: middle;\n",
       "    }\n",
       "\n",
       "    .dataframe tbody tr th {\n",
       "        vertical-align: top;\n",
       "    }\n",
       "\n",
       "    .dataframe thead th {\n",
       "        text-align: right;\n",
       "    }\n",
       "</style>\n",
       "<table border=\"1\" class=\"dataframe\">\n",
       "  <thead>\n",
       "    <tr style=\"text-align: right;\">\n",
       "      <th></th>\n",
       "      <th>ISBN</th>\n",
       "      <th>Genre</th>\n",
       "      <th>Title</th>\n",
       "      <th>Description</th>\n",
       "    </tr>\n",
       "  </thead>\n",
       "  <tbody>\n",
       "    <tr>\n",
       "      <th>0</th>\n",
       "      <td>978-9364499739</td>\n",
       "      <td>Kids</td>\n",
       "      <td>My First 100 Learnings</td>\n",
       "      <td>This is a box set of 5 early learning board bo...</td>\n",
       "    </tr>\n",
       "    <tr>\n",
       "      <th>1</th>\n",
       "      <td>978-9388369999</td>\n",
       "      <td>Kids</td>\n",
       "      <td>My First Five Minutes Fairy Tales</td>\n",
       "      <td>This amazing box containing a set of 20 beauti...</td>\n",
       "    </tr>\n",
       "    <tr>\n",
       "      <th>2</th>\n",
       "      <td>978-9399391746</td>\n",
       "      <td>Kids</td>\n",
       "      <td>The Universe within Space</td>\n",
       "      <td>Ever looked up into the sky and wondered what’...</td>\n",
       "    </tr>\n",
       "    <tr>\n",
       "      <th>3</th>\n",
       "      <td>978-1639969993</td>\n",
       "      <td>Health</td>\n",
       "      <td>Natural Cures</td>\n",
       "      <td>Hundreds of thousands of readers have relied o...</td>\n",
       "    </tr>\n",
       "    <tr>\n",
       "      <th>4</th>\n",
       "      <td>978-1639999161</td>\n",
       "      <td>Health</td>\n",
       "      <td>If Your Mouth Could Talk with me</td>\n",
       "      <td>Your mouth is the gateway to your body and is ...</td>\n",
       "    </tr>\n",
       "  </tbody>\n",
       "</table>\n",
       "</div>"
      ],
      "text/plain": [
       "             ISBN   Genre                              Title  \\\n",
       "0  978-9364499739    Kids             My First 100 Learnings   \n",
       "1  978-9388369999    Kids  My First Five Minutes Fairy Tales   \n",
       "2  978-9399391746    Kids          The Universe within Space   \n",
       "3  978-1639969993  Health                      Natural Cures   \n",
       "4  978-1639999161  Health   If Your Mouth Could Talk with me   \n",
       "\n",
       "                                         Description  \n",
       "0  This is a box set of 5 early learning board bo...  \n",
       "1  This amazing box containing a set of 20 beauti...  \n",
       "2  Ever looked up into the sky and wondered what’...  \n",
       "3  Hundreds of thousands of readers have relied o...  \n",
       "4  Your mouth is the gateway to your body and is ...  "
      ]
     },
     "execution_count": 3,
     "metadata": {},
     "output_type": "execute_result"
    }
   ],
   "source": [
    "df = pd.read_excel('books_data.xlsx')\n",
    "df.head()"
   ]
  },
  {
   "cell_type": "code",
   "execution_count": 4,
   "id": "6f81fb7b",
   "metadata": {},
   "outputs": [
    {
     "data": {
      "text/plain": [
       "<langchain_community.document_loaders.dataframe.DataFrameLoader at 0x240020f1f70>"
      ]
     },
     "execution_count": 4,
     "metadata": {},
     "output_type": "execute_result"
    }
   ],
   "source": [
    "from langchain.document_loaders import DataFrameLoader\n",
    "\n",
    "df_loader = DataFrameLoader(df, page_content_column=\"Description\")\n",
    "df_loader\n"
   ]
  },
  {
   "cell_type": "code",
   "execution_count": 5,
   "id": "94800212",
   "metadata": {},
   "outputs": [
    {
     "name": "stdout",
     "output_type": "stream",
     "text": [
      "[Document(page_content='This is a box set of 5 early learning board books, each comprising 100 well-researched and attractive images. These books will help your child build vocabulary, observation skills, and prepare them for school', metadata={'ISBN': '978-9364499739', 'Genre': 'Kids', 'Title': 'My First 100 Learnings'}), Document(page_content='This amazing box containing a set of 20 beautiful classic children fairy tales will be a delightful read for modern readers. Each fairy tale selected in this set has been retold for centuries. These stories are bound to create memories to treasure and encourage your little ones to read books.  The stories with vibrant, captivating illustrations shall spark their imagination, develop speech and language skills', metadata={'ISBN': '978-9388369999', 'Genre': 'Kids', 'Title': 'My First Five Minutes Fairy Tales'}), Document(page_content='Ever looked up into the sky and wondered what’ s out there in the universe? How many stars are there in the sky? Why can’ t we count stars? What makes the sky dark in the night and blue in the morning? What are constellations? Who was the first person to research on rockets for spaceflight', metadata={'ISBN': '978-9399391746', 'Genre': 'Kids', 'Title': 'The Universe within Space'}), Document(page_content='Hundreds of thousands of readers have relied on Prescription for Natural Cures as the source for accurate, easy-to-understand information on natural treatments and remedies for a host of common ailments. The new edition of this invaluable guide has been thoroughly updated to reflect the very latest research and recommendations', metadata={'ISBN': '978-1639969993', 'Genre': 'Health', 'Title': 'Natural Cures'}), Document(page_content='Your mouth is the gateway to your body and is the most critical organ for improving your health, from childhood onward. Everything in the human life cycle is related to the mouth: fertility, childbirth, sleeping soundly, success in school, finding a mate, getting a job, psychological well-being, avoiding chronic or systemic disease, and aging well', metadata={'ISBN': '978-1639999161', 'Genre': 'Health', 'Title': 'If Your Mouth Could Talk with me'}), Document(page_content='walks you through his proven framework for building a playbook: the profile of your business, the people who work in it, the policies that guide it, and the processes that operate it. He shows you how to codify your culture and create a living document.', metadata={'ISBN': '978-1644694139', 'Genre': 'Business', 'Title': 'The Business Playbook'}), Document(page_content='The counter-intuitive approach to building a profitable business, and a life you actually love', metadata={'ISBN': '978-1644691166', 'Genre': 'Business', 'Title': 'Work Less, Make More'}), Document(page_content=\"Explodes the myth that you need to earn a high income to become rich. Challenges the belief that your house is an asset.  Shows parents why they can't rely on the school system to teach their kids about money. Defines once and for all an asset and a liability\", metadata={'ISBN': '978-1619681130', 'Genre': 'Self-Learning', 'Title': 'Rich Dad Poor Dad by people'}), Document(page_content='The author has spent her career teaching people how to communicate for success. In her book How to Talk to Anyone, Lowndes offers 92 easy and effective sure-fire success techniques - she takes the listener from first meeting all the way up to sophisticated techniques used by the big winners in life', metadata={'ISBN': '978-1619625601', 'Genre': 'Self-Learning', 'Title': 'How to Talk to Anyone at anytime'}), Document(page_content='You can learn to expand your social circle, polish your skill set, find ways to put forward your thoughts more clearly, and build mental strength to counter all hurdles that you may come across on the path to success. Having helped millions of readers from the world over achieve their goals, the clearly listed techniques and principles', metadata={'ISBN': '978-1619693184', 'Genre': 'Self-Learning', 'Title': 'How to Win Friends and Influence People'})]\n"
     ]
    }
   ],
   "source": [
    "documents = list(df_loader.load())\n",
    "print(documents)"
   ]
  },
  {
   "cell_type": "code",
   "execution_count": 6,
   "id": "489d3c32",
   "metadata": {},
   "outputs": [
    {
     "data": {
      "text/plain": [
       "Document(page_content='This is a box set of 5 early learning board books, each comprising 100 well-researched and attractive images. These books will help your child build vocabulary, observation skills, and prepare them for school', metadata={'ISBN': '978-9364499739', 'Genre': 'Kids', 'Title': 'My First 100 Learnings'})"
      ]
     },
     "execution_count": 6,
     "metadata": {},
     "output_type": "execute_result"
    }
   ],
   "source": [
    "documents[0]"
   ]
  },
  {
   "cell_type": "code",
   "execution_count": 7,
   "id": "c6fbe240",
   "metadata": {},
   "outputs": [],
   "source": [
    "import pinecone\n",
    "from langchain.text_splitter import CharacterTextSplitter\n",
    "from langchain.vectorstores import Pinecone"
   ]
  },
  {
   "cell_type": "code",
   "execution_count": 8,
   "id": "a1c23fb2",
   "metadata": {},
   "outputs": [
    {
     "data": {
      "text/plain": [
       "Document(page_content='This is a box set of 5 early learning board books, each comprising 100 well-researched and attractive images. These books will help your child build vocabulary, observation skills, and prepare them for school', metadata={'ISBN': '978-9364499739', 'Genre': 'Kids', 'Title': 'My First 100 Learnings'})"
      ]
     },
     "execution_count": 8,
     "metadata": {},
     "output_type": "execute_result"
    }
   ],
   "source": [
    "text_splitter = CharacterTextSplitter(chunk_size=1000, chunk_overlap=20)\n",
    "docs = text_splitter.split_documents(documents)\n",
    "docs[0]"
   ]
  },
  {
   "cell_type": "code",
   "execution_count": 9,
   "id": "29429a9a",
   "metadata": {},
   "outputs": [
    {
     "data": {
      "text/plain": [
       "GoogleGenerativeAIEmbeddings(model='models/embedding-001', task_type=None, google_api_key=None)"
      ]
     },
     "execution_count": 9,
     "metadata": {},
     "output_type": "execute_result"
    }
   ],
   "source": [
    "from langchain_google_genai import GoogleGenerativeAIEmbeddings\n",
    "\n",
    "embeddings = GoogleGenerativeAIEmbeddings(model=\"models/embedding-001\")\n",
    "embeddings"
   ]
  },
  {
   "cell_type": "code",
   "execution_count": 10,
   "id": "4e03d27f",
   "metadata": {},
   "outputs": [
    {
     "name": "stdout",
     "output_type": "stream",
     "text": [
      "Enter your Pinecone API key: ········\n"
     ]
    }
   ],
   "source": [
    "os.environ[\"PINECONE_API_KEY\"] = getpass.getpass(prompt=\"Enter your Pinecone API key: \")"
   ]
  },
  {
   "cell_type": "code",
   "execution_count": 12,
   "id": "b2247b17",
   "metadata": {},
   "outputs": [
    {
     "name": "stdout",
     "output_type": "stream",
     "text": [
      "Pinecone index: gemini-pro-index is created\n"
     ]
    },
    {
     "data": {
      "text/plain": [
       "{'dimension': 768,\n",
       " 'index_fullness': 0.0,\n",
       " 'namespaces': {},\n",
       " 'total_vector_count': 0}"
      ]
     },
     "execution_count": 12,
     "metadata": {},
     "output_type": "execute_result"
    }
   ],
   "source": [
    "pinecone.init(\n",
    "    api_key = os.getenv(\"PINECONE_API_KEY\"),\n",
    "    environment = \"gcp-starter\"\n",
    ")\n",
    "\n",
    "index_name = \"gemini-pro-index\"\n",
    "\n",
    "if index_name not in pinecone.list_indexes():\n",
    "    pinecone.create_index(index_name, \n",
    "                          dimension = 768, \n",
    "                          metric='cosine')\n",
    "    print(f\"Pinecone index: {index_name} is created\")\n",
    "    \n",
    "index = pinecone.Index(index_name)\n",
    "\n",
    "index.describe_index_stats()"
   ]
  },
  {
   "cell_type": "code",
   "execution_count": 13,
   "id": "88100e63",
   "metadata": {},
   "outputs": [],
   "source": [
    "docsearch = Pinecone.from_documents(docs, embeddings, index_name=index_name)"
   ]
  },
  {
   "cell_type": "code",
   "execution_count": 15,
   "id": "84562b4c",
   "metadata": {},
   "outputs": [
    {
     "data": {
      "text/plain": [
       "{'dimension': 768,\n",
       " 'index_fullness': 0.0001,\n",
       " 'namespaces': {'': {'vector_count': 10}},\n",
       " 'total_vector_count': 10}"
      ]
     },
     "execution_count": 15,
     "metadata": {},
     "output_type": "execute_result"
    }
   ],
   "source": [
    "index.describe_index_stats()"
   ]
  },
  {
   "cell_type": "code",
   "execution_count": 16,
   "id": "8c44f1db",
   "metadata": {},
   "outputs": [],
   "source": [
    "# To load Pinecone index \n",
    "\n",
    "docsearch = Pinecone.from_existing_index(index_name, embeddings)"
   ]
  },
  {
   "cell_type": "code",
   "execution_count": 17,
   "id": "8b82c216",
   "metadata": {},
   "outputs": [
    {
     "data": {
      "text/plain": [
       "{'Genre': 'Self-Learning',\n",
       " 'ISBN': '978-1619693184',\n",
       " 'Title': 'How to Win Friends and Influence People'}"
      ]
     },
     "execution_count": 17,
     "metadata": {},
     "output_type": "execute_result"
    }
   ],
   "source": [
    "query = \"Improve communication and build confidence\"\n",
    "\n",
    "response = docsearch.similarity_search(query)\n",
    "response[0].metadata"
   ]
  },
  {
   "cell_type": "code",
   "execution_count": 18,
   "id": "893ec64f",
   "metadata": {},
   "outputs": [
    {
     "data": {
      "text/plain": [
       "4"
      ]
     },
     "execution_count": 18,
     "metadata": {},
     "output_type": "execute_result"
    }
   ],
   "source": [
    "len(response)"
   ]
  },
  {
   "cell_type": "code",
   "execution_count": 19,
   "id": "ba22ece1",
   "metadata": {},
   "outputs": [
    {
     "name": "stdout",
     "output_type": "stream",
     "text": [
      "{'Genre': 'Self-Learning', 'ISBN': '978-1619693184', 'Title': 'How to Win Friends and Influence People'}\n",
      "{'Genre': 'Business', 'ISBN': '978-1644691166', 'Title': 'Work Less, Make More'}\n",
      "{'Genre': 'Health', 'ISBN': '978-1639999161', 'Title': 'If Your Mouth Could Talk with me'}\n"
     ]
    }
   ],
   "source": [
    "# To get top 3 response:\n",
    "\n",
    "for resp in response[:3]:\n",
    "    print(resp.metadata)"
   ]
  },
  {
   "cell_type": "markdown",
   "id": "1b2234e0",
   "metadata": {},
   "source": [
    "## Maximal Marginal Relevance (MMR)\n",
    "\n",
    "MMR is a technique used to diversify search results by balancing the relevance and dissimilarity of retrieved items. The goal is to provide a set of results that not only contains highly relevant items but also covers a diverse range of information.\n",
    "\n",
    "**Example:** Continuing with the article search example, after finding similar articles using similarity search, MMR can be applied to ensure that the selected articles are not too similar to each other. \n",
    "\n",
    "For instance, if the first article is about AI in healthcare, MMR might select a second article that covers a different aspect of AI, such as its impact on education. This ensures a more comprehensive and diverse set of results.\n",
    "\n",
    "**Similarity Search:** Aims to retrieve items with high similarity to the query.\n",
    "\n",
    "**MMR:** Aims to provide a balanced set of results, considering both relevance and dissimilarity."
   ]
  },
  {
   "cell_type": "code",
   "execution_count": 32,
   "id": "9609cd09",
   "metadata": {},
   "outputs": [
    {
     "name": "stdout",
     "output_type": "stream",
     "text": [
      "{'Genre': 'Kids', 'ISBN': '978-9364499739', 'Title': 'My First 100 Learnings'}\n",
      "{'Genre': 'Business', 'ISBN': '978-1644691166', 'Title': 'Work Less, Make More'}\n",
      "{'Genre': 'Kids', 'ISBN': '978-9399391746', 'Title': 'The Universe within Space'}\n"
     ]
    }
   ],
   "source": [
    "query = \"Learning boxset for children\"\n",
    "\n",
    "retriever = docsearch.as_retriever(search_type=\"mmr\")\n",
    "#retriever = docsearch.as_retriever(search_type=\"similarity\")\n",
    "\n",
    "response = retriever.get_relevant_documents(query)\n",
    "\n",
    "for resp in response[:3]:\n",
    "    print(resp.metadata)"
   ]
  },
  {
   "cell_type": "markdown",
   "id": "420a3ea9",
   "metadata": {},
   "source": [
    "## Retrieval Augmented Generative (RAG)"
   ]
  },
  {
   "cell_type": "code",
   "execution_count": 35,
   "id": "94201d41",
   "metadata": {},
   "outputs": [
    {
     "data": {
      "text/plain": [
       "'The Universe within Space'"
      ]
     },
     "execution_count": 35,
     "metadata": {},
     "output_type": "execute_result"
    }
   ],
   "source": [
    "resp.metadata['Title']"
   ]
  },
  {
   "cell_type": "code",
   "execution_count": 36,
   "id": "e9ae0b15",
   "metadata": {},
   "outputs": [
    {
     "name": "stdout",
     "output_type": "stream",
     "text": [
      "The Related books of title: My First 100 Learnings\n",
      "--------------------------------------------------\n",
      "1. My First 100: Animals (ISBN: 978-1402785666)\n",
      "2. My First 100: Numbers (ISBN: 978-1402785628)\n",
      "3. My First 100: Words (ISBN: 978-1402785642)\n",
      "====================================================================================================\n",
      "The Related books of title: Work Less, Make More\n",
      "--------------------------------------------------\n",
      "1. **The 4-Hour Workweek: Escape 9-5, Live Anywhere, and Join the New Rich**\n",
      "\n",
      "* By: Timothy Ferriss\n",
      "* ISBN: ‎978-0307465358\n",
      "* Summary: This book challenges the traditional notions of career and work-life balance, offering a set of tools and strategies for escaping the 9-to-5 grind and creating a more flexible, fulfilling, and productive lifestyle.\n",
      "\n",
      "\n",
      "2. **The Power of Less: The Minimalist Guide to a Meaningful Life**\n",
      "\n",
      "* By: Leo Babauta\n",
      "* ISBN: ‎978-1623366286\n",
      "* Summary: This book advocates for a minimalist lifestyle, emphasizing the importance of decluttering both physical and mental spaces to gain more clarity, focus, and freedom. It provides practical tips and strategies for reducing possessions, simplifying routines, and cultivating a more intentional and meaningful life.\n",
      "\n",
      "\n",
      "3. **Make Time: How to Focus on What Matters Every Day**\n",
      "\n",
      "* By: Jake Knapp and John Zeratsky\n",
      "* ISBN: ‎978-0399592352\n",
      "* Summary: This book offers a framework for prioritizing and managing time more effectively. It introduces the concept of \"four quadrants of time\" and provides tools and strategies for identifying high-priority tasks, eliminating distractions, and creating more space for the things that truly matter.\n",
      "====================================================================================================\n",
      "The Related books of title: The Universe within Space\n",
      "--------------------------------------------------\n",
      "1. **A Brief History of Time** by Stephen Hawking (ISBN: 9780553380163)\n",
      "\n",
      "2. **The Grand Design** by Stephen Hawking and Leonard Mlodinow (ISBN: 9780553805376)\n",
      "\n",
      "3. **The Universe in a Nutshell** by Stephen Hawking (ISBN: 9780553802020)\n",
      "====================================================================================================\n"
     ]
    }
   ],
   "source": [
    "genai.configure(api_key=os.getenv(\"GOOGLE_API_KEY\"))\n",
    "\n",
    "model = genai.GenerativeModel('gemini-pro')\n",
    "\n",
    "for resp in response[:3]:\n",
    "    response = model.generate_content(f\"Top 3 selling books related to {resp.metadata['Title']} along with its ISBN\")\n",
    "    print(f\"The Related books of title: {resp.metadata['Title']}\")\n",
    "    print(\"-\"*50)\n",
    "    print(response.text)\n",
    "    print(\"=\"*100)"
   ]
  },
  {
   "cell_type": "code",
   "execution_count": null,
   "id": "71a6568b",
   "metadata": {},
   "outputs": [],
   "source": []
  },
  {
   "cell_type": "code",
   "execution_count": null,
   "id": "a7d667dc",
   "metadata": {},
   "outputs": [],
   "source": []
  }
 ],
 "metadata": {
  "kernelspec": {
   "display_name": "Python 3.9 (tensorflow)",
   "language": "python",
   "name": "tensorflow"
  },
  "language_info": {
   "codemirror_mode": {
    "name": "ipython",
    "version": 3
   },
   "file_extension": ".py",
   "mimetype": "text/x-python",
   "name": "python",
   "nbconvert_exporter": "python",
   "pygments_lexer": "ipython3",
   "version": "3.9.18"
  }
 },
 "nbformat": 4,
 "nbformat_minor": 5
}
